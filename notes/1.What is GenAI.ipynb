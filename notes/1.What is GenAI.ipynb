{
 "cells": [
  {
   "cell_type": "markdown",
   "id": "c8449960",
   "metadata": {},
   "source": [
    "## AI, ML, DL, and GenAI: How to Remember\n",
    "\n",
    "- **AI (Artificial Intelligence):** The broadest field—machines that mimic human intelligence.\n",
    "- **ML (Machine Learning):** A subset of AI—algorithms that learn from data.\n",
    "- **DL (Deep Learning):** A subset of ML—uses neural networks with many layers.\n",
    "- **GenAI (Generative AI):** A subset of DL—models that generate new content (text, images, etc.).\n",
    "\n",
    "### Visual Hierarchy\n",
    "\n",
    "```\n",
    "AI\n",
    "└── ML\n",
    "    └── DL\n",
    "        └── GenAI\n",
    "```\n",
    "\n",
    "### Memory Aid\n",
    "\n",
    "- **AI** is the umbrella.\n",
    "- **ML** is a branch of AI that learns from data.\n",
    "- **DL** is a branch of ML using deep neural networks.\n",
    "- **GenAI** is a branch of DL focused on generating new content.\n",
    "\n",
    "> **Tip:**  \n",
    "> Think of it as nested Russian dolls:  \n",
    "> **AI** (biggest) → **ML** → **DL** → **GenAI** (smallest, most specialized)"
   ]
  },
  {
   "cell_type": "code",
   "execution_count": null,
   "id": "9909b061",
   "metadata": {
    "vscode": {
     "languageId": "markdown"
    }
   },
   "outputs": [
    {
     "ename": "SyntaxError",
     "evalue": "invalid syntax (2269987203.py, line 3)",
     "output_type": "error",
     "traceback": [
      "  \u001b[36mCell\u001b[39m\u001b[36m \u001b[39m\u001b[32mIn[1]\u001b[39m\u001b[32m, line 3\u001b[39m\n\u001b[31m    \u001b[39m\u001b[31mThis notebook serves as a quick reference and recap for working with Generative AI (GenAI) concepts and code. It is designed to help you quickly get back up to speed with GenAI workflows, tools, and best practices whenever you revisit this file.\u001b[39m\n         ^\n\u001b[31mSyntaxError\u001b[39m\u001b[31m:\u001b[39m invalid syntax\n"
     ]
    }
   ],
   "source": [
    "# Introduction to Generative AI (GenAI) in This Notebook\n",
    "\n",
    "## What is Generative AI?\n",
    "Generative AI refers to models and algorithms that can create new content, such as text, images, music, or code, often using deep learning techniques. Popular examples include GPT (text), DALL-E (images), and Stable Diffusion (images).\n",
    "\n",
    "## Common GenAI Tasks\n",
    "- **Text Generation:** Creating new text based on prompts (e.g., GPT-3, GPT-4).\n",
    "- **Image Generation:** Producing images from text or other images (e.g., DALL-E, Stable Diffusion).\n",
    "- **Code Generation:** Writing code from natural language prompts (e.g., Copilot, Codex).\n",
    "- **Data Augmentation:** Generating synthetic data for training models.\n",
    "\n",
    "## Typical Workflow\n",
    "1. **Install Required Libraries:** (e.g., `transformers`, `diffusers`, `torch`)\n",
    "2. **Load Pre-trained Model:** Use a model from Hugging Face or other sources.\n",
    "3. **Prepare Input Prompt/Data:** Define the prompt or input for generation.\n",
    "4. **Generate Output:** Use the model to generate new content.\n",
    "5. **Post-process Output:** Clean or format the generated content as needed.\n",
    "\n",
    "## Example: Text Generation with Hugging Face Transformers\n"
   ]
  },
  {
   "cell_type": "code",
   "execution_count": null,
   "id": "50dbb997",
   "metadata": {
    "vscode": {
     "languageId": "markdown"
    }
   },
   "outputs": [],
   "source": [
    "## GenAI Impact Areas\n",
    "\n",
    "Generative AI is transforming a wide range of industries and domains. Here are some key impact areas:\n",
    "\n",
    "- **Content Creation:** Automated generation of text, images, music, and videos for media, marketing, and entertainment.\n",
    "- **Software Development:** Code generation, code completion, and automated documentation.\n",
    "- **Healthcare:** Drug discovery, medical imaging analysis, and synthetic data generation for research.\n",
    "- **Education:** Personalized learning materials, tutoring bots, and automated grading.\n",
    "- **Customer Service:** Intelligent chatbots, virtual assistants, and automated support.\n",
    "- **Design & Art:** AI-assisted design tools, image editing, and creative concept generation.\n",
    "- **Data Augmentation:** Creating synthetic datasets to improve machine learning model performance.\n",
    "- **Gaming:** Procedural content generation, character dialogue, and story development.\n",
    "\n",
    "> Generative AI is rapidly expanding its influence, enabling new possibilities and efficiencies across sectors."
   ]
  },
  {
   "cell_type": "code",
   "execution_count": null,
   "id": "5e53e757",
   "metadata": {
    "vscode": {
     "languageId": "markdown"
    }
   },
   "outputs": [],
   "source": [
    "## Foundational Models in Generative AI\n",
    "\n",
    "**Foundational models** are large, pre-trained AI models (like GPT, BERT, DALL-E) that serve as the base for a wide range of generative tasks. They are trained on massive datasets and can be fine-tuned or adapted for specific applications.\n",
    "\n",
    "### Perspectives in GenAI\n",
    "\n",
    "#### 1. User Perspective\n",
    "- **Focus:** Using GenAI models to solve problems or generate content.\n",
    "- **Key Terms:**\n",
    "    - **Prompt Engineering:** Crafting effective prompts to get desired outputs from a model.\n",
    "    - **Agents:** Using AI-powered agents (like chatbots or copilots) to automate tasks or interact with users.\n",
    "    - **Applications:** Text generation, image creation, code completion, etc.\n",
    "\n",
    "#### 2. Builder Perspective\n",
    "- **Focus:** Developing, improving, or deploying GenAI models.\n",
    "- **Key Terms:**\n",
    "    - **Pretraining:** Training foundational models on large datasets before fine-tuning.\n",
    "    - **RLHF (Reinforcement Learning from Human Feedback):** Improving models using feedback from humans.\n",
    "    - **Quantization:** Optimizing models to run efficiently on hardware by reducing numerical precision.\n",
    "    - **Fine-tuning:** Adapting foundational models to specific tasks or domains.\n",
    "    - **Model Deployment:** Serving models in production environments.\n",
    "    - **Evaluation & Safety:** Ensuring model outputs are accurate and safe.\n",
    "\n",
    "### Which Term Belongs Where?\n",
    "\n",
    "| Term                | User Perspective | Builder Perspective |\n",
    "|---------------------|:---------------:|:------------------:|\n",
    "| Prompt Engineering  |        ✔        |                    |\n",
    "| Agents              |        ✔        |                    |\n",
    "| Pretraining         |                 |         ✔          |\n",
    "| RLHF                |                 |         ✔          |\n",
    "| Quantization        |                 |         ✔          |\n",
    "| Fine-tuning         |                 |         ✔          |\n",
    "| Model Deployment    |                 |         ✔          |\n",
    "| Applications (etc.) |        ✔        |                    |\n",
    "\n",
    "> **Note:** Some terms (like \"agents\") may overlap, as builders create agents and users interact with them.\n",
    "\n",
    "**In summary:**  \n",
    "- **Users** focus on interacting with GenAI models and leveraging their capabilities.\n",
    "- **Builders** focus on creating, optimizing, and deploying these models and systems."
   ]
  },
  {
   "cell_type": "code",
   "execution_count": null,
   "id": "f0f322bb",
   "metadata": {
    "vscode": {
     "languageId": "markdown"
    }
   },
   "outputs": [],
   "source": [
    "## Builder's Perspective: Key Steps and Concepts in Generative AI\n",
    "\n",
    "When building generative AI systems, it's important to understand the full lifecycle and the foundational concepts involved. Here’s a structured overview:\n",
    "\n",
    "### 1. Model Architectures\n",
    "- **Transformers:** The backbone of most modern GenAI models (e.g., GPT, BERT, T5).\n",
    "    - **Encoder-only:** BERT, RoBERTa (good for understanding tasks).\n",
    "    - **Decoder-only:** GPT series (good for generation tasks).\n",
    "    - **Encoder-Decoder:** T5, BART (good for translation, summarization, etc.).\n",
    "- **Other Architectures:** RNNs, CNNs (less common in GenAI today).\n",
    "\n",
    "### 2. Pretraining\n",
    "- **Large-Scale Training:** Models are trained on massive datasets (text, images, code, etc.).\n",
    "- **Self-Supervised Learning:** Models learn patterns without explicit labels.\n",
    "\n",
    "### 3. Optimization Techniques\n",
    "- **Gradient Descent & Variants:** Adam, SGD, etc.\n",
    "- **Regularization:** Dropout, weight decay.\n",
    "- **Learning Rate Scheduling:** Adjusting learning rates during training.\n",
    "- **Mixed Precision Training:** Faster training with less memory.\n",
    "\n",
    "### 4. Fine-Tuning\n",
    "- **Domain Adaptation:** Adapting the model to specific tasks or datasets.\n",
    "- **Transfer Learning:** Leveraging pre-trained weights for new tasks.\n",
    "- **Parameter-Efficient Tuning:** Techniques like LoRA, adapters.\n",
    "\n",
    "### 5. Evaluation\n",
    "- **Metrics:** BLEU, ROUGE, perplexity, accuracy, FID (for images), etc.\n",
    "- **Human Evaluation:** Collecting feedback from real users.\n",
    "- **Bias & Safety Checks:** Ensuring outputs are fair and safe.\n",
    "\n",
    "### 6. Optimization for Deployment\n",
    "- **Quantization:** Reducing model size and inference cost.\n",
    "- **Pruning:** Removing unnecessary weights.\n",
    "- **Distillation:** Training smaller models to mimic larger ones.\n",
    "\n",
    "### 7. Deployment\n",
    "- **Serving Models:** Using APIs, cloud services, or edge devices.\n",
    "- **Scaling:** Handling large numbers of requests efficiently.\n",
    "- **Monitoring:** Tracking performance, drift, and failures.\n",
    "\n",
    "### 8. Continuous Improvement\n",
    "- **RLHF (Reinforcement Learning from Human Feedback):** Improving models with user feedback.\n",
    "- **Retraining:** Updating models with new data.\n",
    "- **A/B Testing:** Comparing model versions in production.\n",
    "\n",
    "---\n",
    "\n",
    "> **Tip:**  \n",
    "> Builders need to understand both the technical details (like architectures and optimization) and the practical aspects (like deployment and monitoring) to create robust GenAI systems."
   ]
  },
  {
   "cell_type": "code",
   "execution_count": null,
   "id": "7a2c14a7",
   "metadata": {
    "vscode": {
     "languageId": "markdown"
    }
   },
   "outputs": [],
   "source": [
    "## User Perspective: Building Basic LLM Apps\n",
    "\n",
    "From the user perspective, creating applications powered by Large Language Models (LLMs) has become accessible thanks to both open-source and closed-source solutions.\n",
    "\n",
    "### Approaches to Building LLM Apps\n",
    "\n",
    "- **Open Source LLMs**\n",
    "    - Examples: Llama 2, Mistral, Falcon, GPT-NeoX.\n",
    "    - **How to Use:** Download models from repositories (e.g., Hugging Face), run locally or on your own server, and interact via APIs or libraries.\n",
    "    - **Pros:** Full control, privacy, customization, no vendor lock-in.\n",
    "    - **Cons:** Requires more setup, hardware resources, and maintenance.\n",
    "\n",
    "- **Closed Source / Hosted LLMs**\n",
    "    - Examples: OpenAI GPT-3/4, Anthropic Claude, Google Gemini, Azure OpenAI.\n",
    "    - **How to Use:** Access via cloud APIs (REST, Python SDKs, etc.), often with free tiers or pay-as-you-go pricing.\n",
    "    - **Pros:** Easy setup, scalable, no need for powerful hardware.\n",
    "    - **Cons:** Less control, potential data privacy concerns, usage costs.\n",
    "\n",
    "### Typical Steps for Users\n",
    "\n",
    "1. **Choose a Model:** Decide between open-source (self-hosted) or closed-source (API-based).\n",
    "2. **Set Up Access:** Install libraries (e.g., `transformers`, `openai`) or get API keys.\n",
    "3. **Craft Prompts:** Write effective prompts to get desired outputs.\n",
    "4. **Integrate into Apps:** Use Python, JavaScript, or other languages to build chatbots, content generators, or assistants.\n",
    "5. **Test and Iterate:** Refine prompts and workflows for better results.\n",
    "\n",
    "> **Tip:**  \n",
    "> Start with hosted APIs for quick prototyping, then explore open-source models for more control and customization as your needs grow."
   ]
  }
 ],
 "metadata": {
  "kernelspec": {
   "display_name": "venv",
   "language": "python",
   "name": "python3"
  },
  "language_info": {
   "codemirror_mode": {
    "name": "ipython",
    "version": 3
   },
   "file_extension": ".py",
   "mimetype": "text/x-python",
   "name": "python",
   "nbconvert_exporter": "python",
   "pygments_lexer": "ipython3",
   "version": "3.12.4"
  }
 },
 "nbformat": 4,
 "nbformat_minor": 5
}
